{
 "cells": [
  {
   "cell_type": "code",
   "execution_count": 14,
   "id": "d25baccd",
   "metadata": {},
   "outputs": [
    {
     "name": "stdout",
     "output_type": "stream",
     "text": [
      "Sorted age: [19, 19, 20, 22, 24, 24, 24, 25, 25, 26]\n",
      "Min: 19\n",
      "Max: 26\n",
      "Added min and max values again: [19, 19, 20, 22, 24, 24, 24, 25, 25, 26, 19, 26]\n",
      "Median: 24.0\n",
      "Avg =  22.75\n",
      "Range =  7\n"
     ]
    }
   ],
   "source": [
    "import statistics\n",
    "ages = [19, 22, 19, 24, 20, 25, 26, 24, 25, 24]\n",
    "# Sorts age list in ascending order by default\n",
    "ages.sort()\n",
    "print (\"Sorted age:\", ages) # Displays sorted values\n",
    "# Minimum age\n",
    "# Displays min value as we used min() method\n",
    "print (\"Min:\", min(ages))\n",
    "# Maximum age\n",
    "# Displays max value as we used max() method\n",
    "print (\"Max:\", max(ages))\n",
    "# Adding again min and max values so we use append() method to insert values to the list\n",
    "ages.append(min(ages))\n",
    "ages.append(max(ages))\n",
    "print (\"Added min and max values again:\",ages) #Displays the list again with new values\n",
    "''' Median (one middle item or two middle items divided by two, as we imported statistics library it calculates \n",
    "easily and provides the opt)'''\n",
    "mdn_age = statistics.median(ages)\n",
    "print (\"Median:\", mdn_age)\n",
    "# Average age\n",
    "average= sum(ages)/len(ages)\n",
    "print (\"Avg = \", average)\n",
    "# Range\n",
    "rng=max(ages)-min(ages)\n",
    "print (\"Range = \", rng)"
   ]
  },
  {
   "cell_type": "code",
   "execution_count": 3,
   "id": "f387ec6f",
   "metadata": {},
   "outputs": [
    {
     "name": "stdout",
     "output_type": "stream",
     "text": [
      "Dog Dictionary Created: {'name': 'johny', 'color': 'black', 'breed': 'german shepard', 'legs': '4', 'age': '5'}\n",
      "Student Dictionary Created: {'first_name': 'joshi', 'last_name': 'paul', 'Gender': 'male', 'age': '22', 'marital_status': 'single', 'skills': ['comedian'], 'Country': 'India', 'City': 'Kakinada', 'Address': '192-168-0-1'}\n",
      "Length of student: 9\n",
      "Datatype of skills: <class 'list'>\n",
      "['first_name', 'last_name', 'Gender', 'age', 'marital_status', 'skills', 'Country', 'City', 'Address']\n",
      "['joshi', 'paul', 'male', '22', 'single', ['comedian', 'Gaming', 'coding'], 'India', 'Kakinada', '192-168-0-1']\n"
     ]
    }
   ],
   "source": [
    "dog = {'name':'johny','color':'black','breed':'german shepard','legs':'4','age':'5'}\n",
    "print (\"Dog Dictionary Created:\",dog)\n",
    "# Student dictionary is created with given key and values\n",
    "student ={'first_name':'joshi','last_name':'paul','Gender':'male','age':'22','marital_status':'single',\n",
    "'skills':['comedian'],'Country':'India','City':'Kakinada','Address':'192-168-0-1'}\n",
    "print (\"Student Dictionary Created:\",student)\n",
    "# Find the length of student dictionary\n",
    "print (\"Length of student:\", len(student))\n",
    "# Check the datatype of skills\n",
    "print (\"Datatype of skills:\",type(student['skills']))\n",
    "#Modify the skills values by adding one or two skills\n",
    "student['skills'].append(\"Gaming\")\n",
    "student['skills'].append(\"coding\")\n",
    "#Get the dictionary keys as a list\n",
    "skeys=[]\n",
    "for i in student.keys():\n",
    " skeys.append(i)\n",
    "print(skeys)\n",
    "#Get the dictionary values as a list\n",
    "sval=[]\n",
    "for i in student.values():\n",
    " sval.append(i)\n",
    "print(sval)"
   ]
  },
  {
   "cell_type": "code",
   "execution_count": 29,
   "id": "95bfbbdf",
   "metadata": {},
   "outputs": [
    {
     "name": "stdout",
     "output_type": "stream",
     "text": [
      "Siblings: ('vindhya', 'Sindhu', 'kavya', 'Shilpa', 'Pavan', 'Santhosh', 'Prasanth', 'Ganesh')\n",
      "Length of Siblings: 8\n",
      "Family_members: ('vindhya', 'Sindhu', 'kavya', 'Shilpa', 'Pavan', 'Santhosh', 'Prasanth', 'Ganesh', 'Baburao', 'Mary')\n"
     ]
    }
   ],
   "source": [
    "my_sisters = ('vindhya', 'Sindhu','kavya','Shilpa')\n",
    "my_brothers = ('Pavan','Santhosh','Prasanth','Ganesh')\n",
    "# Create another tuple as siblings and join the sister’s and brother’s tuple\n",
    "siblings = my_sisters + my_brothers\n",
    "# Displays siblings’ output and length of siblings\n",
    "print(\"Siblings:\", siblings)\n",
    "print(\"Length of Siblings:\", len(siblings))\n",
    "# Create another tuple as family_members and add father and mother name to it\n",
    "family_members = siblings + ('Baburao','Mary')\n",
    "# Displays family_members output\n",
    "print(\"Family_members:\",family_members)"
   ]
  },
  {
   "cell_type": "code",
   "execution_count": 18,
   "id": "9fc5c197",
   "metadata": {},
   "outputs": [
    {
     "name": "stdout",
     "output_type": "stream",
     "text": [
      "Length of it_companies: 7\n",
      "After adding another item: {'Microsoft', 'Apple', 'Oracle', 'IBM', 'Amazon', 'Google', 'Facebook', 'Twitter'}\n",
      "After adding multiple items: {'Apple', 'Oracle', 'Infosys', 'IBM', 'Amazon', 'Wipro', 'TCS', 'Capgemini', 'Microsoft', 'Google', 'Facebook', 'Twitter'}\n",
      "After removing one company: {'Apple', 'Oracle', 'Infosys', 'IBM', 'Amazon', 'Wipro', 'Capgemini', 'Microsoft', 'Google', 'Facebook', 'Twitter'}\n",
      "After discarding company: {'Apple', 'Oracle', 'Infosys', 'IBM', 'Amazon', 'Wipro', 'Capgemini', 'Microsoft', 'Google', 'Facebook', 'Twitter'}\n",
      "Join A and B: {19, 20, 22, 24, 25, 26, 27, 28}\n",
      "Intersection of A and B: {19, 20, 22, 24, 25, 26}\n",
      "Subset of A and B: True\n",
      "Disjoint: False\n",
      "Converting list to set: {19, 22, 24, 25, 26}\n",
      "Length of set: 5\n",
      "Length of list: 8\n",
      "Symmetric diff: {27, 28}\n",
      "set()\n",
      "set()\n"
     ]
    }
   ],
   "source": [
    "it_companies = {'Facebook', 'Google', 'Microsoft', 'Apple', 'IBM', 'Oracle', 'Amazon'}\n",
    "print(\"Length of it_companies:\", len(it_companies))\n",
    "#Add twitter\n",
    "it_companies.add('Twitter')\n",
    "print(\"After adding another item:\",it_companies)\n",
    "#Add multiple it_companies\n",
    "it_companies.update({'Infosys','cognizent','meta','tesla'})\n",
    "print(\"After adding multiple items:\",it_companies)\n",
    "#Remove\n",
    "it_companies.remove('TCS')\n",
    "print(\"After removing one company:\",it_companies)\n",
    "#Discard\n",
    "it_companies.discard('TCS')\n",
    "print(\"After discarding company:\",it_companies)\n",
    "#Discard doesn't raise any error if any item is not present in the set\n",
    "#Join A & B\n",
    "A = {19, 22, 24, 20, 25, 26}\n",
    "B = {19, 22, 20, 25, 26, 24, 28, 27}\n",
    "print(\"Join A and B:\", A.union(B))\n",
    "#Intersection\n",
    "print(\"Intersection of A and B:\", A.intersection(B))\n",
    "#Subset\n",
    "print(\"Subset of A and B:\", A.issubset(B))\n",
    "#Disjoint\n",
    "print(\"Disjoint:\", A.isdisjoint(B))\n",
    "#Convert list to set\n",
    "age = [22, 19, 24, 25, 26, 24, 25, 24]\n",
    "print(\"Converting list to set:\", set(age))\n",
    "#Length of set\n",
    "print(\"Length of set:\",len(set(age)))\n",
    "#Length of list\n",
    "print(\"Length of list:\",len(age))\n",
    "#Symmetric diff- returns values which are not in common with other set\n",
    "print(\"Symmetric diff:\",A.symmetric_difference(B))\n",
    "#delete set\n",
    "A.clear()\n",
    "print(A)\n",
    "B.clear()\n",
    "print(B) "
   ]
  },
  {
   "cell_type": "code",
   "execution_count": 19,
   "id": "97768c44",
   "metadata": {},
   "outputs": [
    {
     "name": "stdout",
     "output_type": "stream",
     "text": [
      "enter r:30\n",
      "Area of Circle: 2826.0\n",
      "Circumference of Circle: 188.4\n"
     ]
    }
   ],
   "source": [
    "# Initialise r where r value can be read from user inpt\n",
    "r = int(input(\"enter r:\"))\n",
    "# Calculate area of circle and circumference of circle\n",
    "_area_of_circle = 3.14*r*r\n",
    "_circum_of_circle = 2*3.14*r\n",
    "# Display area of circle and circumference of circle\n",
    "print(\"Area of Circle:\",_area_of_circle)\n",
    "print(\"Circumference of Circle:\",_circum_of_circle)"
   ]
  },
  {
   "cell_type": "code",
   "execution_count": 21,
   "id": "d36deafe",
   "metadata": {},
   "outputs": [
    {
     "name": "stdout",
     "output_type": "stream",
     "text": [
      "{'I', 'love', 'inspire', 'to', 'a', 'teacher', 'people', 'and', 'am', 'teach'}\n",
      "Length: 10\n"
     ]
    }
   ],
   "source": [
    "# Unique\n",
    "st = \"I am a teacher and I love to inspire and teach people\"\n",
    "# Use split method to separate the words and set to get the unique values\n",
    "spt=set(st.split(\" \"))\n",
    "print(spt)\n",
    "print (\"Length:\",len(spt))"
   ]
  },
  {
   "cell_type": "code",
   "execution_count": 23,
   "id": "140c367b",
   "metadata": {},
   "outputs": [
    {
     "name": "stdout",
     "output_type": "stream",
     "text": [
      "Name\t Age\tCountry\tCity\t\n",
      "Asabeneh 250\tFinland\tHelsinki\n"
     ]
    }
   ],
   "source": [
    "a= \"Name\\t Age\\tCountry\\tCity\\t\\nAsabeneh 250\\tFinland\\tHelsinki\"\n",
    "print(a)"
   ]
  },
  {
   "cell_type": "code",
   "execution_count": 26,
   "id": "ad6840dd",
   "metadata": {},
   "outputs": [
    {
     "name": "stdout",
     "output_type": "stream",
     "text": [
      "radius = 10\n",
      "area = 314.0\n",
      "\"The area of circle with radius 10 is 314.0 meters square\"\n"
     ]
    }
   ],
   "source": [
    "#Using String format method\n",
    "r = 10\n",
    "area = 3.14*r**2\n",
    "print(f'radius = {r}')\n",
    "print(f'area = {area}')\n",
    "print(f'\"The area of circle with radius {r} is {area} meters square\"')"
   ]
  },
  {
   "cell_type": "code",
   "execution_count": 28,
   "id": "5a274ae7",
   "metadata": {},
   "outputs": [
    {
     "name": "stdout",
     "output_type": "stream",
     "text": [
      "150 155 145 148\n",
      "Values are: [68.03, 70.29, 65.76, 67.12]\n"
     ]
    }
   ],
   "source": [
    "#Creating a list(L1) for weights(lbs) of N students\n",
    "L1=[int(num) for num in input().split(\" \")]\n",
    "#Creating another list called W_kg\n",
    "W_kg=[]\n",
    "#Using for loop to iterate the values and appending the list\n",
    "for i in L1:\n",
    " W_kg.append(round(i/2.205,2))\n",
    "#Displaying the values in kgs after conversion\n",
    "print (\"Values are:\",W_kg)"
   ]
  },
  {
   "cell_type": "code",
   "execution_count": null,
   "id": "61eb050f",
   "metadata": {},
   "outputs": [],
   "source": []
  }
 ],
 "metadata": {
  "kernelspec": {
   "display_name": "Python 3 (ipykernel)",
   "language": "python",
   "name": "python3"
  },
  "language_info": {
   "codemirror_mode": {
    "name": "ipython",
    "version": 3
   },
   "file_extension": ".py",
   "mimetype": "text/x-python",
   "name": "python",
   "nbconvert_exporter": "python",
   "pygments_lexer": "ipython3",
   "version": "3.9.13"
  }
 },
 "nbformat": 4,
 "nbformat_minor": 5
}
